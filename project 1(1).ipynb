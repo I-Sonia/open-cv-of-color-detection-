{
 "cells": [
  {
   "cell_type": "code",
   "execution_count": 4,
   "id": "422d44ed",
   "metadata": {},
   "outputs": [
    {
     "name": "stdout",
     "output_type": "stream",
     "text": [
      "204455.0\n"
     ]
    },
    {
     "data": {
      "application/javascript": [
       "\n",
       "        if (window._pyforest_update_imports_cell) { window._pyforest_update_imports_cell('import numpy as np'); }\n",
       "    "
      ],
      "text/plain": [
       "<IPython.core.display.Javascript object>"
      ]
     },
     "metadata": {},
     "output_type": "display_data"
    },
    {
     "data": {
      "application/javascript": [
       "\n",
       "        if (window._pyforest_update_imports_cell) { window._pyforest_update_imports_cell('import numpy as np'); }\n",
       "    "
      ],
      "text/plain": [
       "<IPython.core.display.Javascript object>"
      ]
     },
     "metadata": {},
     "output_type": "display_data"
    },
    {
     "name": "stdout",
     "output_type": "stream",
     "text": [
      "204455.0\n",
      "1824.0\n",
      "4\n"
     ]
    },
    {
     "data": {
      "application/javascript": [
       "\n",
       "        if (window._pyforest_update_imports_cell) { window._pyforest_update_imports_cell('import numpy as np'); }\n",
       "    "
      ],
      "text/plain": [
       "<IPython.core.display.Javascript object>"
      ]
     },
     "metadata": {},
     "output_type": "display_data"
    },
    {
     "data": {
      "text/plain": [
       "-1"
      ]
     },
     "execution_count": 4,
     "metadata": {},
     "output_type": "execute_result"
    }
   ],
   "source": [
    "#  project 1\n",
    "\n",
    "def getContours(img):\n",
    "    contours, hierarchy = cv2.findContours(img, cv2.RETR_EXTERNAL, cv2.CHAIN_APPROX_NONE)\n",
    "    for cnt in contours:\n",
    "        area = cv2.contourArea(cnt)\n",
    "        print(area)\n",
    "        if area>0:\n",
    "            cv2.drawContours(imgContours, cnt, -1, (255,0,0), 3)\n",
    "            peri = cv2.arcLength(cnt, True)\n",
    "            print(peri)\n",
    "            approx = cv2.approxPolyDP(cnt, 0.02*peri, True)\n",
    "            print(len(approx))\n",
    "            objcor = len(approx)\n",
    "            x, y, w, h = cv2.boundingRect(approx)\n",
    "\n",
    "            if objcor == 3: objectType = \"Tri\"\n",
    "            elif objcor ==4:\n",
    "                aspRatio = w/float(h)\n",
    "                if aspRatio > 0.60 and aspRatio < 1.50: objectType=\"Square\"\n",
    "                else:objectType=\"Rectangle\"\n",
    "            elif objcor==5: objectType= \"pentagon\"\n",
    "            elif objcor>5: objectType= \"Circle\"\n",
    "            else:objectType = \"oval\"\n",
    "\n",
    "\n",
    "\n",
    "            cv2.rectangle(imgContours, (x,y), (x+w, y+h), (0, 255, 0), 2)\n",
    "            cv2.putText(imgContours,objectType,(x+(w//2)-10, y+(h//2)-10), cv2.FONT_HERSHEY_COMPLEX, 0.4, (0,0,0),1)\n",
    "            \n",
    "            mg = cv2.imread('shapes-basic-color.png')\n",
    "\n",
    "imgContours = img.copy()\n",
    "kernal = np.ones((5,5),np.uint8)\n",
    "imgGray = cv2.cvtColor(img, cv2.COLOR_BGR2GRAY)\n",
    "\n",
    "imgBlur = cv2.GaussianBlur(imgGray, (7,7), 0)\n",
    "\n",
    "imgCanny = cv2.Canny(img, 100,100)\n",
    "getContours(imgCanny)\n",
    "imgDialate = cv2.dilate(imgCanny, kernal, iterations = 1)\n",
    "\n",
    "imgErode = cv2.erode(imgDialate, kernal, iterations = 1)\n",
    "\n",
    "imgBlank = np.zeros_like(img)\n",
    "\n",
    "cv2.imshow(\"Original\", img)\n",
    "cv2.imshow(\"GRAY image\", imgGray)\n",
    "cv2.imshow(\"Blur image\", imgBlur)\n",
    "cv2.imshow(\"Canny image\", imgCanny)\n",
    "cv2.imshow(\"Dilate image\", imgDialate)\n",
    "cv2.imshow(\"Erode image\", imgErode)\n",
    "cv2.imshow(\"Blank image\", imgBlank)\n",
    "\n",
    "cv2.imshow(\"Contour image\", imgContours)\n",
    "\n",
    "\n",
    "\n",
    "\n",
    "cv2.waitKey(0)\n",
    "\n",
    "\n",
    "\n",
    "# Draw the contours on the original image\n",
    "img_with_contours = img.copy()\n",
    "cv2.imshow(\"Gray Image\", imggray)\n",
    "cv2.imshow(\"Blur Image\", imgBlur)\n",
    "cv2.imshow(\"Canny Image\", imgcanny)\n",
    "\n",
    "\n",
    "cv2.imshow('Output',img)\n",
    "cv2.waitKey(0)\n",
    "\n"
   ]
  }
 ],
 "metadata": {
  "kernelspec": {
   "display_name": "Python 3 (ipykernel)",
   "language": "python",
   "name": "python3"
  },
  "language_info": {
   "codemirror_mode": {
    "name": "ipython",
    "version": 3
   },
   "file_extension": ".py",
   "mimetype": "text/x-python",
   "name": "python",
   "nbconvert_exporter": "python",
   "pygments_lexer": "ipython3",
   "version": "3.10.7"
  }
 },
 "nbformat": 4,
 "nbformat_minor": 5
}
